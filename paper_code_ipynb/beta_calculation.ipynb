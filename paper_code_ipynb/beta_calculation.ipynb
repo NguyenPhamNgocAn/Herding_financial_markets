{
  "cells": [
    {
      "cell_type": "markdown",
      "source": [
        "# **Import Packages**"
      ],
      "metadata": {
        "id": "90uJEMiJL5uI"
      }
    },
    {
      "cell_type": "code",
      "execution_count": null,
      "metadata": {
        "id": "qf8q9mKXP2v8"
      },
      "outputs": [],
      "source": [
        "import pandas as pd\n",
        "import numpy as np\n",
        "import plotly.express as px\n",
        "import statsmodels.api as sm\n",
        "import matplotlib.pyplot as plt\n",
        "import seaborn as sns"
      ]
    },
    {
      "cell_type": "markdown",
      "source": [
        "# **Loading Datasets**"
      ],
      "metadata": {
        "id": "5lYrqHhXL8em"
      }
    },
    {
      "cell_type": "code",
      "execution_count": null,
      "metadata": {
        "id": "Q2toAaZURFyd"
      },
      "outputs": [],
      "source": [
        "data_index = pd.read_csv(\"data/indices_30min_filled.csv\")\n",
        "data_index = data_index.set_index(\"date\")"
      ]
    },
    {
      "cell_type": "code",
      "execution_count": null,
      "metadata": {
        "id": "byLEwKOuUv2M"
      },
      "outputs": [],
      "source": [
        "data_stock = pd.read_csv(\"data/stock_30min_official_trading_filled_missing(ffill).csv\")\n",
        "data_stock = data_stock.set_index(\"date\")"
      ]
    },
    {
      "cell_type": "code",
      "execution_count": null,
      "metadata": {
        "id": "UZhehvT8t2K_"
      },
      "outputs": [],
      "source": [
        "data_etf = pd.read_csv(\"data/etfs_filled.csv\").drop(columns = [\"Unnamed: 0\"])\n",
        "remove_assets = [\"GOVT\",\"IEF\", \"IEI\", \"UVXY\", \"VIXM\", \"VIXY\",\"VXX\"]\n",
        "data_etf = data_etf.drop(columns = remove_assets)\n",
        "data_etf = data_etf.set_index(\"date\")"
      ]
    },
    {
      "cell_type": "code",
      "execution_count": null,
      "metadata": {
        "id": "RYHnfv8h0tx4"
      },
      "outputs": [],
      "source": [
        "data_crypto = pd.read_csv(\"data/crypto_30min_filled_missing_value(ffill).csv\")\n",
        "data_crypto = data_crypto.set_index(\"date\")"
      ]
    },
    {
      "cell_type": "markdown",
      "source": [
        "# **Converting Prices into Returns**"
      ],
      "metadata": {
        "id": "PITi4lcyM1aI"
      }
    },
    {
      "cell_type": "code",
      "execution_count": null,
      "metadata": {
        "id": "d67_4WypZUrw"
      },
      "outputs": [],
      "source": [
        "\n",
        "# Find log-returns of the market index\n",
        "names_index = data_index.columns\n",
        "numpy_data = data_index.to_numpy()\n",
        "original = numpy_data[:-1]\n",
        "onelag = numpy_data[1:]\n",
        "logreturns = np.log(onelag) - np.log(original)\n",
        "\n",
        "return_index = pd.DataFrame(data = logreturns, columns = names_index)\n",
        "return_index[\"date\"] = data_index.index[1:]\n",
        "return_index = return_index.set_index(['date'])\n"
      ]
    },
    {
      "cell_type": "code",
      "execution_count": null,
      "metadata": {
        "id": "Rx4u-N8_briz"
      },
      "outputs": [],
      "source": [
        "\n",
        "# Find log-returns of stocks\n",
        "names_stock = data_stock.columns\n",
        "numpy_data = data_stock.to_numpy()\n",
        "original = numpy_data[:-1]\n",
        "onelag = numpy_data[1:]\n",
        "logreturns = np.log(onelag) - np.log(original)\n",
        "\n",
        "return_stock = pd.DataFrame(data = logreturns, columns = names_stock)\n",
        "return_stock[\"date\"] = data_stock.index[1:]\n",
        "return_stock = return_stock.set_index(['date'])\n"
      ]
    },
    {
      "cell_type": "code",
      "execution_count": null,
      "metadata": {
        "id": "RrrqD4xQutZZ"
      },
      "outputs": [],
      "source": [
        "# Find log-returns of US ETFs\n",
        "names_etf = data_etf.columns\n",
        "numpy_data = data_etf.to_numpy()\n",
        "original = numpy_data[:-1]\n",
        "onelag = numpy_data[1:]\n",
        "logreturns = np.log(onelag) - np.log(original)\n",
        "\n",
        "return_etf = pd.DataFrame(data = logreturns, columns = names_etf)\n",
        "return_etf[\"date\"] = data_etf.index[1:]\n",
        "return_etf = return_etf.set_index(['date'])\n"
      ]
    },
    {
      "cell_type": "code",
      "execution_count": null,
      "metadata": {
        "id": "UUdClXUo1orH"
      },
      "outputs": [],
      "source": [
        "\n",
        "# Find log-returns of Cryptocurrencies\n",
        "names_crypto = data_crypto.columns\n",
        "numpy_data = data_crypto.to_numpy()\n",
        "original = numpy_data[:-1]\n",
        "onelag = numpy_data[1:]\n",
        "logreturns = np.log(onelag) - np.log(original)\n",
        "\n",
        "return_crypto = pd.DataFrame(data = logreturns, columns = names_crypto)\n",
        "return_crypto[\"date\"] = data_crypto.index[1:]\n",
        "return_crypto = return_crypto.set_index(['date'])\n"
      ]
    },
    {
      "cell_type": "code",
      "execution_count": null,
      "metadata": {
        "id": "ega-spKebjMX"
      },
      "outputs": [],
      "source": [
        "return_index = return_index[:-39] # Remove redundant observations"
      ]
    },
    {
      "cell_type": "markdown",
      "source": [
        "# **Calculating the Beta Score for each Asset in each Type of Investment Vehicle**"
      ],
      "metadata": {
        "id": "lGg6eWoFNM9w"
      }
    },
    {
      "cell_type": "markdown",
      "source": [
        "**Cryptocurency vs Bitcoin**"
      ],
      "metadata": {
        "id": "31LgUIXg6Ra_"
      }
    },
    {
      "cell_type": "code",
      "execution_count": null,
      "metadata": {
        "id": "jtm7EVITjwSV"
      },
      "outputs": [],
      "source": [
        "beta_cryptos = [] # Calculate the beta scores for cryptocurrencies relatively to Bitcoin\n",
        "\n",
        "for i in names_crypto:\n",
        "  array_cov = np.cov(return_crypto[i].values, return_crypto[\"BTC\"].values)\n",
        "  beta_cryptos.append(array_cov[0][1]/array_cov[1][1])\n",
        "\n",
        "beta_crypto_pandas = pd.DataFrame(data = np.array([names_crypto, beta_cryptos]).T, columns = [\"crypto\", \"beta score bitcoin\"])"
      ]
    },
    {
      "cell_type": "code",
      "source": [
        "beta_crypto_pandas.drop(index=[19]) # Exclude UST as it does not have a full period like others\n"
      ],
      "metadata": {
        "id": "A1LDkfAN8TYn"
      },
      "execution_count": null,
      "outputs": []
    },
    {
      "cell_type": "markdown",
      "source": [
        "**Cryptocurrency vs SP500**"
      ],
      "metadata": {
        "id": "ip4vaCy96UHZ"
      }
    },
    {
      "cell_type": "code",
      "execution_count": null,
      "metadata": {
        "id": "48v9_jj6ktQq"
      },
      "outputs": [],
      "source": [
        "beta_cryptos_sp500 = [] # Calculate the beta scores for cryptocurrencies relatively to SP500\n",
        "\n",
        "for i in names_crypto:\n",
        "  array_cov = np.cov(return_crypto[i].values, return_index[\"SPX\"].values)\n",
        "  beta_cryptos_sp500.append(array_cov[0][1]/array_cov[1][1])\n",
        "\n",
        "beta_crypto_sp500_pandas = pd.DataFrame(data = np.array([names_crypto, beta_cryptos_sp500]).T, columns = [\"crypto\", \"beta score sp500\"])"
      ]
    },
    {
      "cell_type": "code",
      "source": [
        "beta_crypto_sp500_pandas.drop(index=[19]) # Exclude UST as it does not have a full period like others\n"
      ],
      "metadata": {
        "colab": {
          "base_uri": "https://localhost:8080/",
          "height": 896
        },
        "id": "VXD1fjme8OIC",
        "outputId": "02691590-01ed-47ff-92ad-2fee23b21a70"
      },
      "execution_count": null,
      "outputs": [
        {
          "output_type": "execute_result",
          "data": {
            "text/plain": [
              "   crypto beta score sp500\n",
              "0     ADA         0.068688\n",
              "1     BAT         0.098275\n",
              "2     BCH         0.035825\n",
              "3     BNT         0.051319\n",
              "4     BSV         0.033241\n",
              "5     BTC         0.005964\n",
              "6     DAI        -0.009612\n",
              "7    DASH         0.058664\n",
              "8    DOGE          -0.1611\n",
              "9     EOS         0.039923\n",
              "10    ETC         0.050679\n",
              "11    ETH         0.109488\n",
              "12    LTC         0.047242\n",
              "13    NEO         0.032885\n",
              "14    OMG         0.060773\n",
              "15   QTUM         0.049503\n",
              "16    REP        -0.008559\n",
              "17    TRX         -0.00462\n",
              "18   USDT         0.004271\n",
              "19    UST         0.161838\n",
              "20    XLM         0.015727\n",
              "21    XMR         0.043681\n",
              "22    XRP         0.017503\n",
              "23    XTZ         0.090689\n",
              "24    XVG        -0.086954\n",
              "25    ZEC            0.073\n",
              "26    ZRX         0.002544"
            ],
            "text/html": [
              "\n",
              "  <div id=\"df-5f5f2458-9032-4c0c-bd72-1bdd947acf44\" class=\"colab-df-container\">\n",
              "    <div>\n",
              "<style scoped>\n",
              "    .dataframe tbody tr th:only-of-type {\n",
              "        vertical-align: middle;\n",
              "    }\n",
              "\n",
              "    .dataframe tbody tr th {\n",
              "        vertical-align: top;\n",
              "    }\n",
              "\n",
              "    .dataframe thead th {\n",
              "        text-align: right;\n",
              "    }\n",
              "</style>\n",
              "<table border=\"1\" class=\"dataframe\">\n",
              "  <thead>\n",
              "    <tr style=\"text-align: right;\">\n",
              "      <th></th>\n",
              "      <th>crypto</th>\n",
              "      <th>beta score sp500</th>\n",
              "    </tr>\n",
              "  </thead>\n",
              "  <tbody>\n",
              "    <tr>\n",
              "      <th>0</th>\n",
              "      <td>ADA</td>\n",
              "      <td>0.068688</td>\n",
              "    </tr>\n",
              "    <tr>\n",
              "      <th>1</th>\n",
              "      <td>BAT</td>\n",
              "      <td>0.098275</td>\n",
              "    </tr>\n",
              "    <tr>\n",
              "      <th>2</th>\n",
              "      <td>BCH</td>\n",
              "      <td>0.035825</td>\n",
              "    </tr>\n",
              "    <tr>\n",
              "      <th>3</th>\n",
              "      <td>BNT</td>\n",
              "      <td>0.051319</td>\n",
              "    </tr>\n",
              "    <tr>\n",
              "      <th>4</th>\n",
              "      <td>BSV</td>\n",
              "      <td>0.033241</td>\n",
              "    </tr>\n",
              "    <tr>\n",
              "      <th>5</th>\n",
              "      <td>BTC</td>\n",
              "      <td>0.005964</td>\n",
              "    </tr>\n",
              "    <tr>\n",
              "      <th>6</th>\n",
              "      <td>DAI</td>\n",
              "      <td>-0.009612</td>\n",
              "    </tr>\n",
              "    <tr>\n",
              "      <th>7</th>\n",
              "      <td>DASH</td>\n",
              "      <td>0.058664</td>\n",
              "    </tr>\n",
              "    <tr>\n",
              "      <th>8</th>\n",
              "      <td>DOGE</td>\n",
              "      <td>-0.1611</td>\n",
              "    </tr>\n",
              "    <tr>\n",
              "      <th>9</th>\n",
              "      <td>EOS</td>\n",
              "      <td>0.039923</td>\n",
              "    </tr>\n",
              "    <tr>\n",
              "      <th>10</th>\n",
              "      <td>ETC</td>\n",
              "      <td>0.050679</td>\n",
              "    </tr>\n",
              "    <tr>\n",
              "      <th>11</th>\n",
              "      <td>ETH</td>\n",
              "      <td>0.109488</td>\n",
              "    </tr>\n",
              "    <tr>\n",
              "      <th>12</th>\n",
              "      <td>LTC</td>\n",
              "      <td>0.047242</td>\n",
              "    </tr>\n",
              "    <tr>\n",
              "      <th>13</th>\n",
              "      <td>NEO</td>\n",
              "      <td>0.032885</td>\n",
              "    </tr>\n",
              "    <tr>\n",
              "      <th>14</th>\n",
              "      <td>OMG</td>\n",
              "      <td>0.060773</td>\n",
              "    </tr>\n",
              "    <tr>\n",
              "      <th>15</th>\n",
              "      <td>QTUM</td>\n",
              "      <td>0.049503</td>\n",
              "    </tr>\n",
              "    <tr>\n",
              "      <th>16</th>\n",
              "      <td>REP</td>\n",
              "      <td>-0.008559</td>\n",
              "    </tr>\n",
              "    <tr>\n",
              "      <th>17</th>\n",
              "      <td>TRX</td>\n",
              "      <td>-0.00462</td>\n",
              "    </tr>\n",
              "    <tr>\n",
              "      <th>18</th>\n",
              "      <td>USDT</td>\n",
              "      <td>0.004271</td>\n",
              "    </tr>\n",
              "    <tr>\n",
              "      <th>19</th>\n",
              "      <td>UST</td>\n",
              "      <td>0.161838</td>\n",
              "    </tr>\n",
              "    <tr>\n",
              "      <th>20</th>\n",
              "      <td>XLM</td>\n",
              "      <td>0.015727</td>\n",
              "    </tr>\n",
              "    <tr>\n",
              "      <th>21</th>\n",
              "      <td>XMR</td>\n",
              "      <td>0.043681</td>\n",
              "    </tr>\n",
              "    <tr>\n",
              "      <th>22</th>\n",
              "      <td>XRP</td>\n",
              "      <td>0.017503</td>\n",
              "    </tr>\n",
              "    <tr>\n",
              "      <th>23</th>\n",
              "      <td>XTZ</td>\n",
              "      <td>0.090689</td>\n",
              "    </tr>\n",
              "    <tr>\n",
              "      <th>24</th>\n",
              "      <td>XVG</td>\n",
              "      <td>-0.086954</td>\n",
              "    </tr>\n",
              "    <tr>\n",
              "      <th>25</th>\n",
              "      <td>ZEC</td>\n",
              "      <td>0.073</td>\n",
              "    </tr>\n",
              "    <tr>\n",
              "      <th>26</th>\n",
              "      <td>ZRX</td>\n",
              "      <td>0.002544</td>\n",
              "    </tr>\n",
              "  </tbody>\n",
              "</table>\n",
              "</div>\n",
              "    <div class=\"colab-df-buttons\">\n",
              "\n",
              "  <div class=\"colab-df-container\">\n",
              "    <button class=\"colab-df-convert\" onclick=\"convertToInteractive('df-5f5f2458-9032-4c0c-bd72-1bdd947acf44')\"\n",
              "            title=\"Convert this dataframe to an interactive table.\"\n",
              "            style=\"display:none;\">\n",
              "\n",
              "  <svg xmlns=\"http://www.w3.org/2000/svg\" height=\"24px\" viewBox=\"0 -960 960 960\">\n",
              "    <path d=\"M120-120v-720h720v720H120Zm60-500h600v-160H180v160Zm220 220h160v-160H400v160Zm0 220h160v-160H400v160ZM180-400h160v-160H180v160Zm440 0h160v-160H620v160ZM180-180h160v-160H180v160Zm440 0h160v-160H620v160Z\"/>\n",
              "  </svg>\n",
              "    </button>\n",
              "\n",
              "  <style>\n",
              "    .colab-df-container {\n",
              "      display:flex;\n",
              "      gap: 12px;\n",
              "    }\n",
              "\n",
              "    .colab-df-convert {\n",
              "      background-color: #E8F0FE;\n",
              "      border: none;\n",
              "      border-radius: 50%;\n",
              "      cursor: pointer;\n",
              "      display: none;\n",
              "      fill: #1967D2;\n",
              "      height: 32px;\n",
              "      padding: 0 0 0 0;\n",
              "      width: 32px;\n",
              "    }\n",
              "\n",
              "    .colab-df-convert:hover {\n",
              "      background-color: #E2EBFA;\n",
              "      box-shadow: 0px 1px 2px rgba(60, 64, 67, 0.3), 0px 1px 3px 1px rgba(60, 64, 67, 0.15);\n",
              "      fill: #174EA6;\n",
              "    }\n",
              "\n",
              "    .colab-df-buttons div {\n",
              "      margin-bottom: 4px;\n",
              "    }\n",
              "\n",
              "    [theme=dark] .colab-df-convert {\n",
              "      background-color: #3B4455;\n",
              "      fill: #D2E3FC;\n",
              "    }\n",
              "\n",
              "    [theme=dark] .colab-df-convert:hover {\n",
              "      background-color: #434B5C;\n",
              "      box-shadow: 0px 1px 3px 1px rgba(0, 0, 0, 0.15);\n",
              "      filter: drop-shadow(0px 1px 2px rgba(0, 0, 0, 0.3));\n",
              "      fill: #FFFFFF;\n",
              "    }\n",
              "  </style>\n",
              "\n",
              "    <script>\n",
              "      const buttonEl =\n",
              "        document.querySelector('#df-5f5f2458-9032-4c0c-bd72-1bdd947acf44 button.colab-df-convert');\n",
              "      buttonEl.style.display =\n",
              "        google.colab.kernel.accessAllowed ? 'block' : 'none';\n",
              "\n",
              "      async function convertToInteractive(key) {\n",
              "        const element = document.querySelector('#df-5f5f2458-9032-4c0c-bd72-1bdd947acf44');\n",
              "        const dataTable =\n",
              "          await google.colab.kernel.invokeFunction('convertToInteractive',\n",
              "                                                    [key], {});\n",
              "        if (!dataTable) return;\n",
              "\n",
              "        const docLinkHtml = 'Like what you see? Visit the ' +\n",
              "          '<a target=\"_blank\" href=https://colab.research.google.com/notebooks/data_table.ipynb>data table notebook</a>'\n",
              "          + ' to learn more about interactive tables.';\n",
              "        element.innerHTML = '';\n",
              "        dataTable['output_type'] = 'display_data';\n",
              "        await google.colab.output.renderOutput(dataTable, element);\n",
              "        const docLink = document.createElement('div');\n",
              "        docLink.innerHTML = docLinkHtml;\n",
              "        element.appendChild(docLink);\n",
              "      }\n",
              "    </script>\n",
              "  </div>\n",
              "\n",
              "\n",
              "<div id=\"df-568382e4-ae4b-4e88-bfb9-05a38470b72d\">\n",
              "  <button class=\"colab-df-quickchart\" onclick=\"quickchart('df-568382e4-ae4b-4e88-bfb9-05a38470b72d')\"\n",
              "            title=\"Suggest charts\"\n",
              "            style=\"display:none;\">\n",
              "\n",
              "<svg xmlns=\"http://www.w3.org/2000/svg\" height=\"24px\"viewBox=\"0 0 24 24\"\n",
              "     width=\"24px\">\n",
              "    <g>\n",
              "        <path d=\"M19 3H5c-1.1 0-2 .9-2 2v14c0 1.1.9 2 2 2h14c1.1 0 2-.9 2-2V5c0-1.1-.9-2-2-2zM9 17H7v-7h2v7zm4 0h-2V7h2v10zm4 0h-2v-4h2v4z\"/>\n",
              "    </g>\n",
              "</svg>\n",
              "  </button>\n",
              "\n",
              "<style>\n",
              "  .colab-df-quickchart {\n",
              "      --bg-color: #E8F0FE;\n",
              "      --fill-color: #1967D2;\n",
              "      --hover-bg-color: #E2EBFA;\n",
              "      --hover-fill-color: #174EA6;\n",
              "      --disabled-fill-color: #AAA;\n",
              "      --disabled-bg-color: #DDD;\n",
              "  }\n",
              "\n",
              "  [theme=dark] .colab-df-quickchart {\n",
              "      --bg-color: #3B4455;\n",
              "      --fill-color: #D2E3FC;\n",
              "      --hover-bg-color: #434B5C;\n",
              "      --hover-fill-color: #FFFFFF;\n",
              "      --disabled-bg-color: #3B4455;\n",
              "      --disabled-fill-color: #666;\n",
              "  }\n",
              "\n",
              "  .colab-df-quickchart {\n",
              "    background-color: var(--bg-color);\n",
              "    border: none;\n",
              "    border-radius: 50%;\n",
              "    cursor: pointer;\n",
              "    display: none;\n",
              "    fill: var(--fill-color);\n",
              "    height: 32px;\n",
              "    padding: 0;\n",
              "    width: 32px;\n",
              "  }\n",
              "\n",
              "  .colab-df-quickchart:hover {\n",
              "    background-color: var(--hover-bg-color);\n",
              "    box-shadow: 0 1px 2px rgba(60, 64, 67, 0.3), 0 1px 3px 1px rgba(60, 64, 67, 0.15);\n",
              "    fill: var(--button-hover-fill-color);\n",
              "  }\n",
              "\n",
              "  .colab-df-quickchart-complete:disabled,\n",
              "  .colab-df-quickchart-complete:disabled:hover {\n",
              "    background-color: var(--disabled-bg-color);\n",
              "    fill: var(--disabled-fill-color);\n",
              "    box-shadow: none;\n",
              "  }\n",
              "\n",
              "  .colab-df-spinner {\n",
              "    border: 2px solid var(--fill-color);\n",
              "    border-color: transparent;\n",
              "    border-bottom-color: var(--fill-color);\n",
              "    animation:\n",
              "      spin 1s steps(1) infinite;\n",
              "  }\n",
              "\n",
              "  @keyframes spin {\n",
              "    0% {\n",
              "      border-color: transparent;\n",
              "      border-bottom-color: var(--fill-color);\n",
              "      border-left-color: var(--fill-color);\n",
              "    }\n",
              "    20% {\n",
              "      border-color: transparent;\n",
              "      border-left-color: var(--fill-color);\n",
              "      border-top-color: var(--fill-color);\n",
              "    }\n",
              "    30% {\n",
              "      border-color: transparent;\n",
              "      border-left-color: var(--fill-color);\n",
              "      border-top-color: var(--fill-color);\n",
              "      border-right-color: var(--fill-color);\n",
              "    }\n",
              "    40% {\n",
              "      border-color: transparent;\n",
              "      border-right-color: var(--fill-color);\n",
              "      border-top-color: var(--fill-color);\n",
              "    }\n",
              "    60% {\n",
              "      border-color: transparent;\n",
              "      border-right-color: var(--fill-color);\n",
              "    }\n",
              "    80% {\n",
              "      border-color: transparent;\n",
              "      border-right-color: var(--fill-color);\n",
              "      border-bottom-color: var(--fill-color);\n",
              "    }\n",
              "    90% {\n",
              "      border-color: transparent;\n",
              "      border-bottom-color: var(--fill-color);\n",
              "    }\n",
              "  }\n",
              "</style>\n",
              "\n",
              "  <script>\n",
              "    async function quickchart(key) {\n",
              "      const quickchartButtonEl =\n",
              "        document.querySelector('#' + key + ' button');\n",
              "      quickchartButtonEl.disabled = true;  // To prevent multiple clicks.\n",
              "      quickchartButtonEl.classList.add('colab-df-spinner');\n",
              "      try {\n",
              "        const charts = await google.colab.kernel.invokeFunction(\n",
              "            'suggestCharts', [key], {});\n",
              "      } catch (error) {\n",
              "        console.error('Error during call to suggestCharts:', error);\n",
              "      }\n",
              "      quickchartButtonEl.classList.remove('colab-df-spinner');\n",
              "      quickchartButtonEl.classList.add('colab-df-quickchart-complete');\n",
              "    }\n",
              "    (() => {\n",
              "      let quickchartButtonEl =\n",
              "        document.querySelector('#df-568382e4-ae4b-4e88-bfb9-05a38470b72d button');\n",
              "      quickchartButtonEl.style.display =\n",
              "        google.colab.kernel.accessAllowed ? 'block' : 'none';\n",
              "    })();\n",
              "  </script>\n",
              "</div>\n",
              "\n",
              "  <div id=\"id_d8b17fb9-c344-481d-9762-fd6bf0bf05e4\">\n",
              "    <style>\n",
              "      .colab-df-generate {\n",
              "        background-color: #E8F0FE;\n",
              "        border: none;\n",
              "        border-radius: 50%;\n",
              "        cursor: pointer;\n",
              "        display: none;\n",
              "        fill: #1967D2;\n",
              "        height: 32px;\n",
              "        padding: 0 0 0 0;\n",
              "        width: 32px;\n",
              "      }\n",
              "\n",
              "      .colab-df-generate:hover {\n",
              "        background-color: #E2EBFA;\n",
              "        box-shadow: 0px 1px 2px rgba(60, 64, 67, 0.3), 0px 1px 3px 1px rgba(60, 64, 67, 0.15);\n",
              "        fill: #174EA6;\n",
              "      }\n",
              "\n",
              "      [theme=dark] .colab-df-generate {\n",
              "        background-color: #3B4455;\n",
              "        fill: #D2E3FC;\n",
              "      }\n",
              "\n",
              "      [theme=dark] .colab-df-generate:hover {\n",
              "        background-color: #434B5C;\n",
              "        box-shadow: 0px 1px 3px 1px rgba(0, 0, 0, 0.15);\n",
              "        filter: drop-shadow(0px 1px 2px rgba(0, 0, 0, 0.3));\n",
              "        fill: #FFFFFF;\n",
              "      }\n",
              "    </style>\n",
              "    <button class=\"colab-df-generate\" onclick=\"generateWithVariable('beta_crypto_sp500_pandas')\"\n",
              "            title=\"Generate code using this dataframe.\"\n",
              "            style=\"display:none;\">\n",
              "\n",
              "  <svg xmlns=\"http://www.w3.org/2000/svg\" height=\"24px\"viewBox=\"0 0 24 24\"\n",
              "       width=\"24px\">\n",
              "    <path d=\"M7,19H8.4L18.45,9,17,7.55,7,17.6ZM5,21V16.75L18.45,3.32a2,2,0,0,1,2.83,0l1.4,1.43a1.91,1.91,0,0,1,.58,1.4,1.91,1.91,0,0,1-.58,1.4L9.25,21ZM18.45,9,17,7.55Zm-12,3A5.31,5.31,0,0,0,4.9,8.1,5.31,5.31,0,0,0,1,6.5,5.31,5.31,0,0,0,4.9,4.9,5.31,5.31,0,0,0,6.5,1,5.31,5.31,0,0,0,8.1,4.9,5.31,5.31,0,0,0,12,6.5,5.46,5.46,0,0,0,6.5,12Z\"/>\n",
              "  </svg>\n",
              "    </button>\n",
              "    <script>\n",
              "      (() => {\n",
              "      const buttonEl =\n",
              "        document.querySelector('#id_d8b17fb9-c344-481d-9762-fd6bf0bf05e4 button.colab-df-generate');\n",
              "      buttonEl.style.display =\n",
              "        google.colab.kernel.accessAllowed ? 'block' : 'none';\n",
              "\n",
              "      buttonEl.onclick = () => {\n",
              "        google.colab.notebook.generateWithVariable('beta_crypto_sp500_pandas');\n",
              "      }\n",
              "      })();\n",
              "    </script>\n",
              "  </div>\n",
              "\n",
              "    </div>\n",
              "  </div>\n"
            ],
            "application/vnd.google.colaboratory.intrinsic+json": {
              "type": "dataframe",
              "variable_name": "beta_crypto_sp500_pandas",
              "summary": "{\n  \"name\": \"beta_crypto_sp500_pandas\",\n  \"rows\": 27,\n  \"fields\": [\n    {\n      \"column\": \"crypto\",\n      \"properties\": {\n        \"dtype\": \"string\",\n        \"num_unique_values\": 27,\n        \"samples\": [\n          \"DOGE\",\n          \"NEO\",\n          \"EOS\"\n        ],\n        \"semantic_type\": \"\",\n        \"description\": \"\"\n      }\n    },\n    {\n      \"column\": \"beta score sp500\",\n      \"properties\": {\n        \"dtype\": \"date\",\n        \"min\": -0.1610995298923942,\n        \"max\": 0.16183789015855862,\n        \"num_unique_values\": 27,\n        \"samples\": [\n          -0.1610995298923942,\n          0.032885458729687095,\n          0.039922652640935995\n        ],\n        \"semantic_type\": \"\",\n        \"description\": \"\"\n      }\n    }\n  ]\n}"
            }
          },
          "metadata": {},
          "execution_count": 26
        }
      ]
    },
    {
      "cell_type": "markdown",
      "source": [
        "**Stock vs SP500**"
      ],
      "metadata": {
        "id": "Ev3hOdcQ8aTV"
      }
    },
    {
      "cell_type": "code",
      "source": [
        "beta_stock_sp500 = [] # Calculate the beta scores for stocks relatively to SP500\n",
        "\n",
        "for i in names_stock:\n",
        "  array_cov = np.cov(return_stock[i].values, return_index[\"SPX\"].values)\n",
        "  beta_stock_sp500.append(array_cov[0][1]/array_cov[1][1])\n",
        "\n",
        "beta_stock_sp500_pandas = pd.DataFrame(data = np.array([names_stock, beta_stock_sp500]).T, columns = [\"stock\", \"beta score sp500\"])"
      ],
      "metadata": {
        "id": "F46UwJ7P8czq"
      },
      "execution_count": null,
      "outputs": []
    },
    {
      "cell_type": "markdown",
      "source": [
        "**ETFs vs SP500**"
      ],
      "metadata": {
        "id": "57ToLGtPAzHF"
      }
    },
    {
      "cell_type": "code",
      "source": [
        "beta_etf_sp500 = [] # Calculate the beta scores for US ETFs relatively to SP500\n",
        "\n",
        "for i in names_etf:\n",
        "  array_cov = np.cov(return_etf[i].values, return_index[\"SPX\"].values)\n",
        "\n",
        "  beta_etf_sp500.append(array_cov[0][1]/array_cov[1][1])\n",
        "\n",
        "beta_etf_sp500_pandas = pd.DataFrame(data = np.array([names_etf, beta_etf_sp500]).T, columns = [\"etf\", \"beta score sp500\"])"
      ],
      "metadata": {
        "id": "eLppk0x75rjf"
      },
      "execution_count": null,
      "outputs": []
    },
    {
      "cell_type": "markdown",
      "metadata": {
        "id": "vWmuVdf-6gUN"
      },
      "source": [
        "# **Analysing beta scores for each market**"
      ]
    },
    {
      "cell_type": "code",
      "source": [
        "stock_beta = pd.to_numeric(beta_stock_sp500_pandas[\"beta score sp500\"]).values\n",
        "etf_beta = pd.to_numeric(beta_etf_sp500_pandas[\"beta score sp500\"]).values\n",
        "crypto_beta = pd.to_numeric(beta_crypto_sp500_pandas.drop(index = [19])[\"beta score sp500\"]).values\n",
        "crypto_btc = pd.to_numeric(beta_crypto_pandas.drop(index = [19])[\"beta score bitcoin\"]).values"
      ],
      "metadata": {
        "id": "DTPWHC8SDbXo"
      },
      "execution_count": null,
      "outputs": []
    },
    {
      "cell_type": "code",
      "execution_count": null,
      "metadata": {
        "colab": {
          "base_uri": "https://localhost:8080/",
          "height": 410
        },
        "id": "m_SKYDcoiA6A",
        "outputId": "ac2c8af2-dbd3-4269-e6fc-4e932cb1160a"
      },
      "outputs": [
        {
          "output_type": "display_data",
          "data": {
            "text/plain": [
              "<Figure size 1000x400 with 1 Axes>"
            ],
            "image/png": "[encoded data removed]"
          },
          "metadata": {}
        }
      ],
      "source": [
        "# Create a DataFrame\n",
        "data = {\n",
        "    'Stock (Sp500)': pd.Series(stock_beta),\n",
        "    'US ETF (Sp500)': pd.Series(etf_beta),\n",
        "    'Crypto (Sp500)': pd.Series(crypto_beta),\n",
        "    'Crypto (Bitcoin)': pd.Series(crypto_btc)\n",
        "}\n",
        "\n",
        "df = pd.DataFrame(data)\n",
        "\n",
        "# Plot the box plots\n",
        "plt.figure(figsize=(10, 4))\n",
        "df.boxplot()\n",
        "plt.title('Box Plots for Beta Scores in Three Types of Investment Vehicle')\n",
        "plt.ylabel('Beta Score')\n",
        "plt.xlabel('Investment Vehicle')"
      ]
    }
  ],
  "metadata": {
    "colab": {
      "provenance": []
    },
    "kernelspec": {
      "display_name": "Python 3",
      "name": "python3"
    },
    "language_info": {
      "name": "python"
    }
  },
  "nbformat": 4,
  "nbformat_minor": 0
}